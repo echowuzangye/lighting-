{
 "cells": [
  {
   "cell_type": "code",
   "execution_count": 1,
   "id": "be7c3c45",
   "metadata": {},
   "outputs": [],
   "source": [
    "import pandas as pd\n",
    "import numpy as np"
   ]
  },
  {
   "cell_type": "markdown",
   "id": "e943bf0e",
   "metadata": {},
   "source": [
    "import spectrum file, specify csv file name below (csv file is saved in the same directory as this notebook)"
   ]
  },
  {
   "cell_type": "code",
   "execution_count": 2,
   "id": "91e902bf",
   "metadata": {},
   "outputs": [],
   "source": [
    "df=pd.read_csv('RAB04331.csv')"
   ]
  },
  {
   "cell_type": "markdown",
   "id": "6421e008",
   "metadata": {},
   "source": [
    "csv file may come in two different formats"
   ]
  },
  {
   "cell_type": "code",
   "execution_count": 3,
   "id": "cea29af3",
   "metadata": {},
   "outputs": [],
   "source": [
    "# save file name and get spectrum data from 380nm to 780nm\n",
    "if df.shape[1] == 4:\n",
    "    file_name = df.columns[2]\n",
    "    df_spd = df.iloc[df[df['REPORT NAME:']=='380'].index[0] :, [0,2]]\n",
    "elif df.shape[1] == 2:\n",
    "    file_name = df.columns[1]\n",
    "    df_spd = df.iloc[df[df['REPORT NAME:']=='380'].index[0] :, [0,1]]"
   ]
  },
  {
   "cell_type": "code",
   "execution_count": 4,
   "id": "21b9f62b",
   "metadata": {},
   "outputs": [
    {
     "data": {
      "text/html": [
       "<div>\n",
       "<style scoped>\n",
       "    .dataframe tbody tr th:only-of-type {\n",
       "        vertical-align: middle;\n",
       "    }\n",
       "\n",
       "    .dataframe tbody tr th {\n",
       "        vertical-align: top;\n",
       "    }\n",
       "\n",
       "    .dataframe thead th {\n",
       "        text-align: right;\n",
       "    }\n",
       "</style>\n",
       "<table border=\"1\" class=\"dataframe\">\n",
       "  <thead>\n",
       "    <tr style=\"text-align: right;\">\n",
       "      <th></th>\n",
       "      <th>REPORT NAME:</th>\n",
       "      <th>RAB04331</th>\n",
       "    </tr>\n",
       "  </thead>\n",
       "  <tbody>\n",
       "    <tr>\n",
       "      <th>61</th>\n",
       "      <td>380</td>\n",
       "      <td>0.146</td>\n",
       "    </tr>\n",
       "    <tr>\n",
       "      <th>62</th>\n",
       "      <td>381</td>\n",
       "      <td>0.158</td>\n",
       "    </tr>\n",
       "    <tr>\n",
       "      <th>63</th>\n",
       "      <td>382</td>\n",
       "      <td>0.157</td>\n",
       "    </tr>\n",
       "    <tr>\n",
       "      <th>64</th>\n",
       "      <td>383</td>\n",
       "      <td>0.157</td>\n",
       "    </tr>\n",
       "    <tr>\n",
       "      <th>65</th>\n",
       "      <td>384</td>\n",
       "      <td>0.156</td>\n",
       "    </tr>\n",
       "  </tbody>\n",
       "</table>\n",
       "</div>"
      ],
      "text/plain": [
       "   REPORT NAME:  RAB04331\n",
       "61          380     0.146\n",
       "62          381     0.158\n",
       "63          382     0.157\n",
       "64          383     0.157\n",
       "65          384     0.156"
      ]
     },
     "execution_count": 4,
     "metadata": {},
     "output_type": "execute_result"
    }
   ],
   "source": [
    "df_spd.head()"
   ]
  },
  {
   "cell_type": "code",
   "execution_count": 5,
   "id": "5a503a96",
   "metadata": {},
   "outputs": [],
   "source": [
    "df_spd.iloc[:,1] = pd.to_numeric(df_spd.iloc[:,1],errors = 'coerce')"
   ]
  },
  {
   "cell_type": "code",
   "execution_count": 6,
   "id": "b92c7d57",
   "metadata": {},
   "outputs": [],
   "source": [
    "df_spd['spd'] = round(df_spd.iloc[:,1]/1000,6)"
   ]
  },
  {
   "cell_type": "code",
   "execution_count": 7,
   "id": "13d30ad8",
   "metadata": {},
   "outputs": [
    {
     "name": "stdout",
     "output_type": "stream",
     "text": [
      "<class 'pandas.core.frame.DataFrame'>\n",
      "RangeIndex: 401 entries, 61 to 461\n",
      "Data columns (total 3 columns):\n",
      " #   Column        Non-Null Count  Dtype  \n",
      "---  ------        --------------  -----  \n",
      " 0   REPORT NAME:  401 non-null    object \n",
      " 1    RAB04331     401 non-null    float64\n",
      " 2   spd           401 non-null    object \n",
      "dtypes: float64(1), object(2)\n",
      "memory usage: 9.5+ KB\n"
     ]
    }
   ],
   "source": [
    "df_spd['spd'] = df_spd['spd'].astype(str)\n",
    "df_spd.info()"
   ]
  },
  {
   "cell_type": "markdown",
   "id": "3d3d2311",
   "metadata": {},
   "source": [
    "SPDX file wavelength info format"
   ]
  },
  {
   "cell_type": "code",
   "execution_count": 8,
   "id": "81bb3fa8",
   "metadata": {},
   "outputs": [],
   "source": [
    "df_spd['info']= '<SpectralData wavelength=\"'+df_spd.iloc[:,0] + '\">' + df_spd.iloc[:,2] + '</SpectralData>'"
   ]
  },
  {
   "cell_type": "code",
   "execution_count": 9,
   "id": "bb07654b",
   "metadata": {},
   "outputs": [
    {
     "data": {
      "text/html": [
       "<div>\n",
       "<style scoped>\n",
       "    .dataframe tbody tr th:only-of-type {\n",
       "        vertical-align: middle;\n",
       "    }\n",
       "\n",
       "    .dataframe tbody tr th {\n",
       "        vertical-align: top;\n",
       "    }\n",
       "\n",
       "    .dataframe thead th {\n",
       "        text-align: right;\n",
       "    }\n",
       "</style>\n",
       "<table border=\"1\" class=\"dataframe\">\n",
       "  <thead>\n",
       "    <tr style=\"text-align: right;\">\n",
       "      <th></th>\n",
       "      <th>REPORT NAME:</th>\n",
       "      <th>RAB04331</th>\n",
       "      <th>spd</th>\n",
       "      <th>info</th>\n",
       "    </tr>\n",
       "  </thead>\n",
       "  <tbody>\n",
       "    <tr>\n",
       "      <th>61</th>\n",
       "      <td>380</td>\n",
       "      <td>0.146</td>\n",
       "      <td>0.000146</td>\n",
       "      <td>&lt;SpectralData wavelength=\"380\"&gt;0.000146&lt;/Spect...</td>\n",
       "    </tr>\n",
       "    <tr>\n",
       "      <th>62</th>\n",
       "      <td>381</td>\n",
       "      <td>0.158</td>\n",
       "      <td>0.000158</td>\n",
       "      <td>&lt;SpectralData wavelength=\"381\"&gt;0.000158&lt;/Spect...</td>\n",
       "    </tr>\n",
       "    <tr>\n",
       "      <th>63</th>\n",
       "      <td>382</td>\n",
       "      <td>0.157</td>\n",
       "      <td>0.000157</td>\n",
       "      <td>&lt;SpectralData wavelength=\"382\"&gt;0.000157&lt;/Spect...</td>\n",
       "    </tr>\n",
       "    <tr>\n",
       "      <th>64</th>\n",
       "      <td>383</td>\n",
       "      <td>0.157</td>\n",
       "      <td>0.000157</td>\n",
       "      <td>&lt;SpectralData wavelength=\"383\"&gt;0.000157&lt;/Spect...</td>\n",
       "    </tr>\n",
       "    <tr>\n",
       "      <th>65</th>\n",
       "      <td>384</td>\n",
       "      <td>0.156</td>\n",
       "      <td>0.000156</td>\n",
       "      <td>&lt;SpectralData wavelength=\"384\"&gt;0.000156&lt;/Spect...</td>\n",
       "    </tr>\n",
       "  </tbody>\n",
       "</table>\n",
       "</div>"
      ],
      "text/plain": [
       "   REPORT NAME:   RAB04331       spd  \\\n",
       "61          380      0.146  0.000146   \n",
       "62          381      0.158  0.000158   \n",
       "63          382      0.157  0.000157   \n",
       "64          383      0.157  0.000157   \n",
       "65          384      0.156  0.000156   \n",
       "\n",
       "                                                 info  \n",
       "61  <SpectralData wavelength=\"380\">0.000146</Spect...  \n",
       "62  <SpectralData wavelength=\"381\">0.000158</Spect...  \n",
       "63  <SpectralData wavelength=\"382\">0.000157</Spect...  \n",
       "64  <SpectralData wavelength=\"383\">0.000157</Spect...  \n",
       "65  <SpectralData wavelength=\"384\">0.000156</Spect...  "
      ]
     },
     "execution_count": 9,
     "metadata": {},
     "output_type": "execute_result"
    }
   ],
   "source": [
    "df_spd.head()"
   ]
  },
  {
   "cell_type": "markdown",
   "id": "ff6f607d",
   "metadata": {},
   "source": [
    "Export only the last column as txt file"
   ]
  },
  {
   "cell_type": "code",
   "execution_count": 10,
   "id": "9837378b",
   "metadata": {},
   "outputs": [],
   "source": [
    "np.savetxt(f'{file_name}_spdx.txt', df_spd['info'], fmt='%s')"
   ]
  }
 ],
 "metadata": {
  "kernelspec": {
   "display_name": "Python 3",
   "language": "python",
   "name": "python3"
  },
  "language_info": {
   "codemirror_mode": {
    "name": "ipython",
    "version": 3
   },
   "file_extension": ".py",
   "mimetype": "text/x-python",
   "name": "python",
   "nbconvert_exporter": "python",
   "pygments_lexer": "ipython3",
   "version": "3.8.11"
  }
 },
 "nbformat": 4,
 "nbformat_minor": 5
}
